{
 "cells": [
  {
   "cell_type": "code",
   "execution_count": 37,
   "metadata": {},
   "outputs": [
    {
     "data": {
      "text/plain": [
       "True"
      ]
     },
     "execution_count": 37,
     "metadata": {},
     "output_type": "execute_result"
    }
   ],
   "source": [
    "import firebase_admin\n",
    "from firebase_admin import credentials\n",
    "from firebase_admin import db\n",
    "from firebase_admin import firestore \n",
    "from dotenv import load_dotenv\n",
    "import os\n",
    "import json\n",
    "load_dotenv()"
   ]
  },
  {
   "cell_type": "code",
   "execution_count": null,
   "metadata": {},
   "outputs": [],
   "source": [
    "# Fetch the service account key JSON file contents\n",
    "#json_key = json.loads('./fir-gitaction-cron-firebase-adminsdk-y88qq-ea865abe55.json')\n",
    "json_key = json.loads(os.environ.get('FIREBASE_CONFIG'))\n",
    "cred = credentials.Certificate(json_key)\n",
    "# Initialize the app with a service account, granting admin privileges\n",
    "firebase_admin.initialize_app(cred, {\n",
    "    'databaseURL': \"https://fir-gitaction-cron-default-rtdb.asia-southeast1.firebasedatabase.app\"\n",
    "})"
   ]
  },
  {
   "cell_type": "code",
   "execution_count": 27,
   "metadata": {},
   "outputs": [],
   "source": [
    "ref = db.reference('/1')\n",
    "#print(ref.get())\n",
    "data = {\n",
    "  'name': 'John Doe',\n",
    "  'age': 30,\n",
    "  'email': 'johndoe@example.com'\n",
    "}\n",
    "\n",
    "ref.set(data)"
   ]
  },
  {
   "cell_type": "code",
   "execution_count": 29,
   "metadata": {},
   "outputs": [],
   "source": [
    "# Get a reference to the database root\n",
    "ref = db.reference('/2')\n",
    "\n",
    "# Push data to a specific location\n",
    "data = {'name': 'Johny', 'age': 35}\n",
    "ref.set(data)"
   ]
  },
  {
   "cell_type": "code",
   "execution_count": 41,
   "metadata": {},
   "outputs": [
    {
     "name": "stdout",
     "output_type": "stream",
     "text": [
      "0\n"
     ]
    }
   ],
   "source": [
    "# Get a reference to the database root\n",
    "ref = db.reference('/')\n",
    "\n",
    "# Retrieve all reference keys\n",
    "snapshot = ref.get(shallow=True)\n",
    "keys = list(snapshot.keys()) if snapshot else []\n",
    "print(len(keys))\n"
   ]
  }
 ],
 "metadata": {
  "kernelspec": {
   "display_name": "py39_firebase",
   "language": "python",
   "name": "python3"
  },
  "language_info": {
   "codemirror_mode": {
    "name": "ipython",
    "version": 3
   },
   "file_extension": ".py",
   "mimetype": "text/x-python",
   "name": "python",
   "nbconvert_exporter": "python",
   "pygments_lexer": "ipython3",
   "version": "3.9.16"
  },
  "orig_nbformat": 4
 },
 "nbformat": 4,
 "nbformat_minor": 2
}
